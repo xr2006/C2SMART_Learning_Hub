{
 "cells": [
  {
   "cell_type": "markdown",
   "id": "4296ed0a-33b2-4d25-944e-0b1a513a8e14",
   "metadata": {},
   "source": [
    "# Discrete Choice Modeling for Travel Behavior Analysis: From Multinomial Logit to More Advanced Forms"
   ]
  },
  {
   "cell_type": "markdown",
   "id": "69717c65-18a9-4534-8863-e9bc8e8a6c07",
   "metadata": {},
   "source": [
    "## C2SMARTER Student Learning Hub Series"
   ]
  },
  {
   "cell_type": "markdown",
   "id": "0ac1b49c-c5be-4365-aa9d-78f9f0ffc208",
   "metadata": {},
   "source": [
    "### Xiyuan Ren\n",
    "### April 11, 2025"
   ]
  },
  {
   "cell_type": "markdown",
   "id": "c4a3dcff-f309-460b-b29f-9c4c01b6d2c6",
   "metadata": {},
   "source": [
    "#### ---------------------"
   ]
  },
  {
   "cell_type": "code",
   "execution_count": 82,
   "id": "6fea1527-1410-4836-8d3a-88f067c9f176",
   "metadata": {},
   "outputs": [
    {
     "name": "stdout",
     "output_type": "stream",
     "text": [
      "The history saving thread hit an unexpected error (OperationalError('attempt to write a readonly database')).History will not be written to the database.\n"
     ]
    }
   ],
   "source": [
    "import numpy as np\n",
    "import pandas as pd\n",
    "import matplotlib.pyplot as plt\n",
    "import cvxpy as cp\n",
    "import xlogit\n",
    "import warnings\n",
    "warnings.filterwarnings('ignore')\n",
    "import time\n",
    "from sklearn.preprocessing import MinMaxScaler\n",
    "from sklearn.metrics import log_loss\n",
    "from math import radians, cos, sin, asin, sqrt"
   ]
  },
  {
   "cell_type": "markdown",
   "id": "c12cb7cb-56dc-4221-805e-c2dacc6c21cc",
   "metadata": {},
   "source": [
    "## Example 1: MNL, MXL, AMXL for Commute Choice"
   ]
  },
  {
   "cell_type": "markdown",
   "id": "d068b1b1-92cc-4448-8f62-3120ab5c6bcd",
   "metadata": {},
   "source": [
    "Ren, X., & Chow, J. Y. (2022). A random-utility-consistent machine learning method to estimate agents’ joint activity scheduling choice from a ubiquitous data set. Transportation Research Part B: Methodological, 166, 396-418."
   ]
  },
  {
   "cell_type": "markdown",
   "id": "2b9dd49c-8f07-40de-b98f-152cc531e918",
   "metadata": {},
   "source": [
    "<img src=\"image/commute_choice.jpg\" style=\"width:90%\">"
   ]
  },
  {
   "cell_type": "markdown",
   "id": "03f2cd90-4696-4d3e-8148-41520e9e04d0",
   "metadata": {},
   "source": [
    "### 1.Data Structure"
   ]
  },
  {
   "cell_type": "code",
   "execution_count": 2,
   "id": "9b69fe95-f072-4da9-97f5-ae76318b40d6",
   "metadata": {},
   "outputs": [],
   "source": [
    "Commuting_choice = pd.read_csv(\"Commuting_choice_0507.csv\")"
   ]
  },
  {
   "cell_type": "code",
   "execution_count": 3,
   "id": "738c14d7-75b4-401e-a478-93b8eac4233b",
   "metadata": {},
   "outputs": [
    {
     "data": {
      "text/html": [
       "<div>\n",
       "<style scoped>\n",
       "    .dataframe tbody tr th:only-of-type {\n",
       "        vertical-align: middle;\n",
       "    }\n",
       "\n",
       "    .dataframe tbody tr th {\n",
       "        vertical-align: top;\n",
       "    }\n",
       "\n",
       "    .dataframe thead th {\n",
       "        text-align: right;\n",
       "    }\n",
       "</style>\n",
       "<table border=\"1\" class=\"dataframe\">\n",
       "  <thead>\n",
       "    <tr style=\"text-align: right;\">\n",
       "      <th></th>\n",
       "      <th>iid</th>\n",
       "      <th>hw_od</th>\n",
       "      <th>chosen</th>\n",
       "      <th>ln_dwork</th>\n",
       "      <th>SDE_work</th>\n",
       "      <th>SDL_work</th>\n",
       "      <th>PL_work</th>\n",
       "      <th>ln_dlunch</th>\n",
       "      <th>SDE_lunch</th>\n",
       "      <th>SDL_lunch</th>\n",
       "      <th>K_lunch1</th>\n",
       "      <th>K_lunch2</th>\n",
       "      <th>ln_dafterwork</th>\n",
       "      <th>ln_dwork*ln_afterwork</th>\n",
       "      <th>t_commute</th>\n",
       "      <th>c_commute</th>\n",
       "      <th>M_commute2</th>\n",
       "      <th>t_worklunch</th>\n",
       "      <th>alternative</th>\n",
       "    </tr>\n",
       "  </thead>\n",
       "  <tbody>\n",
       "    <tr>\n",
       "      <th>0</th>\n",
       "      <td>1</td>\n",
       "      <td>(121.34179988186844, 30.714540897435004, 121.5...</td>\n",
       "      <td>True</td>\n",
       "      <td>2.235376</td>\n",
       "      <td>126</td>\n",
       "      <td>0</td>\n",
       "      <td>0</td>\n",
       "      <td>0.0</td>\n",
       "      <td>45</td>\n",
       "      <td>0</td>\n",
       "      <td>0</td>\n",
       "      <td>0</td>\n",
       "      <td>1.7492</td>\n",
       "      <td>3.910120</td>\n",
       "      <td>69</td>\n",
       "      <td>20.0</td>\n",
       "      <td>0</td>\n",
       "      <td>0</td>\n",
       "      <td>6:30-7:00,Driving</td>\n",
       "    </tr>\n",
       "    <tr>\n",
       "      <th>1</th>\n",
       "      <td>1</td>\n",
       "      <td>(121.34179988186844, 30.714540897435004, 121.5...</td>\n",
       "      <td>False</td>\n",
       "      <td>2.122262</td>\n",
       "      <td>66</td>\n",
       "      <td>0</td>\n",
       "      <td>0</td>\n",
       "      <td>0.0</td>\n",
       "      <td>45</td>\n",
       "      <td>0</td>\n",
       "      <td>0</td>\n",
       "      <td>0</td>\n",
       "      <td>1.7492</td>\n",
       "      <td>3.712260</td>\n",
       "      <td>129</td>\n",
       "      <td>8.0</td>\n",
       "      <td>1</td>\n",
       "      <td>0</td>\n",
       "      <td>6:30-7:00,Transit</td>\n",
       "    </tr>\n",
       "    <tr>\n",
       "      <th>2</th>\n",
       "      <td>1</td>\n",
       "      <td>(121.34179988186844, 30.714540897435004, 121.5...</td>\n",
       "      <td>False</td>\n",
       "      <td>2.180417</td>\n",
       "      <td>96</td>\n",
       "      <td>0</td>\n",
       "      <td>0</td>\n",
       "      <td>0.0</td>\n",
       "      <td>45</td>\n",
       "      <td>0</td>\n",
       "      <td>0</td>\n",
       "      <td>0</td>\n",
       "      <td>1.7492</td>\n",
       "      <td>3.813986</td>\n",
       "      <td>69</td>\n",
       "      <td>20.0</td>\n",
       "      <td>0</td>\n",
       "      <td>0</td>\n",
       "      <td>7:00-7:30,Driving</td>\n",
       "    </tr>\n",
       "    <tr>\n",
       "      <th>3</th>\n",
       "      <td>1</td>\n",
       "      <td>(121.34179988186844, 30.714540897435004, 121.5...</td>\n",
       "      <td>False</td>\n",
       "      <td>2.060514</td>\n",
       "      <td>36</td>\n",
       "      <td>0</td>\n",
       "      <td>0</td>\n",
       "      <td>0.0</td>\n",
       "      <td>45</td>\n",
       "      <td>0</td>\n",
       "      <td>0</td>\n",
       "      <td>0</td>\n",
       "      <td>1.7492</td>\n",
       "      <td>3.604250</td>\n",
       "      <td>129</td>\n",
       "      <td>8.0</td>\n",
       "      <td>1</td>\n",
       "      <td>0</td>\n",
       "      <td>7:00-7:30,Transit</td>\n",
       "    </tr>\n",
       "    <tr>\n",
       "      <th>4</th>\n",
       "      <td>1</td>\n",
       "      <td>(121.34179988186844, 30.714540897435004, 121.5...</td>\n",
       "      <td>False</td>\n",
       "      <td>2.012678</td>\n",
       "      <td>14</td>\n",
       "      <td>0</td>\n",
       "      <td>0</td>\n",
       "      <td>0.0</td>\n",
       "      <td>45</td>\n",
       "      <td>0</td>\n",
       "      <td>0</td>\n",
       "      <td>0</td>\n",
       "      <td>1.7492</td>\n",
       "      <td>3.520577</td>\n",
       "      <td>121</td>\n",
       "      <td>20.0</td>\n",
       "      <td>0</td>\n",
       "      <td>0</td>\n",
       "      <td>7:30-8:00,Driving</td>\n",
       "    </tr>\n",
       "  </tbody>\n",
       "</table>\n",
       "</div>"
      ],
      "text/plain": [
       "   iid                                              hw_od  chosen  ln_dwork  \\\n",
       "0    1  (121.34179988186844, 30.714540897435004, 121.5...    True  2.235376   \n",
       "1    1  (121.34179988186844, 30.714540897435004, 121.5...   False  2.122262   \n",
       "2    1  (121.34179988186844, 30.714540897435004, 121.5...   False  2.180417   \n",
       "3    1  (121.34179988186844, 30.714540897435004, 121.5...   False  2.060514   \n",
       "4    1  (121.34179988186844, 30.714540897435004, 121.5...   False  2.012678   \n",
       "\n",
       "   SDE_work  SDL_work  PL_work  ln_dlunch  SDE_lunch  SDL_lunch  K_lunch1  \\\n",
       "0       126         0        0        0.0         45          0         0   \n",
       "1        66         0        0        0.0         45          0         0   \n",
       "2        96         0        0        0.0         45          0         0   \n",
       "3        36         0        0        0.0         45          0         0   \n",
       "4        14         0        0        0.0         45          0         0   \n",
       "\n",
       "   K_lunch2  ln_dafterwork  ln_dwork*ln_afterwork  t_commute  c_commute  \\\n",
       "0         0         1.7492               3.910120         69       20.0   \n",
       "1         0         1.7492               3.712260        129        8.0   \n",
       "2         0         1.7492               3.813986         69       20.0   \n",
       "3         0         1.7492               3.604250        129        8.0   \n",
       "4         0         1.7492               3.520577        121       20.0   \n",
       "\n",
       "   M_commute2  t_worklunch        alternative  \n",
       "0           0            0  6:30-7:00,Driving  \n",
       "1           1            0  6:30-7:00,Transit  \n",
       "2           0            0  7:00-7:30,Driving  \n",
       "3           1            0  7:00-7:30,Transit  \n",
       "4           0            0  7:30-8:00,Driving  "
      ]
     },
     "execution_count": 3,
     "metadata": {},
     "output_type": "execute_result"
    }
   ],
   "source": [
    "Commuting_choice.head()"
   ]
  },
  {
   "cell_type": "code",
   "execution_count": 4,
   "id": "c3aa6f2d-6220-4b5e-b56f-610b1921b574",
   "metadata": {},
   "outputs": [
    {
     "name": "stdout",
     "output_type": "stream",
     "text": [
      "Number of rows: 366086\n",
      "Number of individuals: 26149\n",
      "Number of choice observations: 26149\n",
      "Number of alternatives: 14\n"
     ]
    }
   ],
   "source": [
    "print('Number of rows:',len(Commuting_choice))\n",
    "print('Number of individuals:',len(Commuting_choice['iid'].unique()))\n",
    "print('Number of choice observations:',int(len(Commuting_choice)/len(Commuting_choice['alternative'].unique())))\n",
    "print('Number of alternatives:',len(Commuting_choice['alternative'].unique()))"
   ]
  },
  {
   "cell_type": "code",
   "execution_count": 5,
   "id": "354d54a5-f6e8-4914-a5ee-72cb6d0ded28",
   "metadata": {},
   "outputs": [
    {
     "name": "stdout",
     "output_type": "stream",
     "text": [
      "['6:30-7:00,Driving' '6:30-7:00,Transit' '7:00-7:30,Driving'\n",
      " '7:00-7:30,Transit' '7:30-8:00,Driving' '7:30-8:00,Transit'\n",
      " '8:00-8:30,Driving' '8:00-8:30,Transit' '8:30-9:00,Driving'\n",
      " '8:30-9:00,Transit' '9:00-9:30,Driving' '9:00-9:30,Transit'\n",
      " '9:30-10:00,Driving' '9:30-10:00,Transit']\n"
     ]
    }
   ],
   "source": [
    "print(Commuting_choice['alternative'].unique())"
   ]
  },
  {
   "cell_type": "markdown",
   "id": "2fa86ec8-c866-44f8-bda0-271562014a69",
   "metadata": {},
   "source": [
    "### 2.Utility function\n",
    "#### $$U_{ij}=\\theta_{time}time_{commute}+\\theta_{cost}cost_{commute}+\\theta_{mode}mode_{commute}+\\theta_{SDE}SDE+\\theta_{SDL}SDL+\\theta_{PL}PL+\\theta_{duration}Dur_{work}+\\epsilon_{i,j}$$ where:\n",
    "$time_{commute}$: commuting travel time (vary across i,j)\n",
    "\n",
    "$cost_{commute}$: commuting travel cost (vary across i,j)\n",
    "\n",
    "$mode_{commute}$: commuting mode constant (vary across j)\n",
    "\n",
    "$SDE$: schedule deviation--earlier than regular workplace arrival time (vary across i,j)\n",
    "\n",
    "$SDL$: schedule deviation--later than regular workplace arrival time (vary across i,j)\n",
    "\n",
    "$PL$: additional penalty for being late for work (vary across i,j)\n",
    "\n",
    "$Dur_{work}$: total work duration (vary across i,j)\n",
    "\n",
    "$\\epsilon_{i,j}$: random disturbance following Gumbel distribution (vary across i for each j)"
   ]
  },
  {
   "cell_type": "markdown",
   "id": "5b68cbf4-6dfd-4ea6-aa13-4c74a42b07b3",
   "metadata": {},
   "source": [
    "### 3.Estimate MNL and MXL using xlogit"
   ]
  },
  {
   "cell_type": "markdown",
   "id": "bcca4375-8c3b-4778-a698-fb97a97e69b0",
   "metadata": {},
   "source": [
    "Arteaga, C., Park, J., Beeramoole, P. B., & Paz, A. (2022). xlogit: An open-source Python package for GPU-accelerated estimation of Mixed Logit models. Journal of Choice Modelling, 42, 100339."
   ]
  },
  {
   "cell_type": "code",
   "execution_count": 6,
   "id": "56315b5f-5d74-4eec-bab4-c62bb78b9d92",
   "metadata": {},
   "outputs": [],
   "source": [
    "from sklearn.preprocessing import MinMaxScaler\n",
    "ms = MinMaxScaler()\n",
    "Commuting_choice_ms = Commuting_choice.copy(deep=True)\n",
    "Commuting_choice_ms.iloc[:,3:-1] = ms.fit_transform(Commuting_choice_ms.iloc[:,3:-1].values)"
   ]
  },
  {
   "cell_type": "code",
   "execution_count": 7,
   "id": "9440f8bd-3c34-4c38-808b-ac1500d462cb",
   "metadata": {},
   "outputs": [],
   "source": [
    "from xlogit import MultinomialLogit, MixedLogit"
   ]
  },
  {
   "cell_type": "markdown",
   "id": "39c69754-779f-400b-8512-3702fb7805ee",
   "metadata": {},
   "source": [
    "#### In MNL, all parameters (theta) are assummed to be fixed values"
   ]
  },
  {
   "cell_type": "code",
   "execution_count": 8,
   "id": "1650a38e-57fa-4322-a81c-a3677bca6b54",
   "metadata": {},
   "outputs": [
    {
     "name": "stdout",
     "output_type": "stream",
     "text": [
      "Optimization terminated successfully.\n",
      "    Message: The gradients are close to zero\n",
      "    Iterations: 13\n",
      "    Function evaluations: 14\n",
      "Estimation time= 1.1 seconds\n",
      "---------------------------------------------------------------------------\n",
      "Coefficient              Estimate      Std.Err.         z-val         P>|z|\n",
      "---------------------------------------------------------------------------\n",
      "t_commute              -8.8774619     0.1099954   -80.7075656             0 ***\n",
      "c_commute              -1.0049461     0.1853316    -5.4224207      5.93e-08 ***\n",
      "M_commute2              0.3743507     0.1563890     2.3937141        0.0167 *  \n",
      "SDE_work               -6.9333252     0.1654255   -41.9120701             0 ***\n",
      "SDL_work               -5.3241934     0.2386781   -22.3070085      3.3e-109 ***\n",
      "PL_work                 0.3348956     0.4548364     0.7362992         0.462    \n",
      "ln_dwork               22.3646455     0.6324974    35.3592691     1.44e-267 ***\n",
      "---------------------------------------------------------------------------\n",
      "Significance:  0 '***' 0.001 '**' 0.01 '*' 0.05 '.' 0.1 ' ' 1\n",
      "\n",
      "Log-Likelihood= -61183.529\n",
      "AIC= 122381.059\n",
      "BIC= 122438.260\n"
     ]
    }
   ],
   "source": [
    "varnames = ['t_commute','c_commute','M_commute2','SDE_work','SDL_work','PL_work','ln_dwork']\n",
    "\n",
    "MNL = MultinomialLogit()\n",
    "MNL.fit(X=Commuting_choice_ms[varnames], y=Commuting_choice_ms['chosen'], varnames=varnames,\n",
    "        ids=Commuting_choice_ms['iid'],alts=Commuting_choice_ms['alternative'])\n",
    "\n",
    "MNL.summary()"
   ]
  },
  {
   "cell_type": "markdown",
   "id": "6b6a7b5a-9f15-442a-916f-c5b82f2ac6ae",
   "metadata": {},
   "source": [
    "$$\\mathrm{Loglikelihood} \\;=\\; \\sum_{i=1}^{N} \\sum_{j=1}^{J} y_{ij}\\,\\ln P_{ij}$$\n",
    "$$McFadden \\space R^2 \\;=\\; 1 \\;-\\; \\frac{LL(\\beta)}{LL(0)}$$"
   ]
  },
  {
   "cell_type": "code",
   "execution_count": 9,
   "id": "bda1d8e9-4e31-4950-87ba-eb36ecf7127f",
   "metadata": {},
   "outputs": [
    {
     "name": "stdout",
     "output_type": "stream",
     "text": [
      "McFadden R Square of MNL: 0.11339410257313098\n"
     ]
    }
   ],
   "source": [
    "LL_MNL = MNL.loglikelihood\n",
    "num_alt = len(Commuting_choice['alternative'].unique())\n",
    "num_observation = int(len(Commuting_choice)/len(Commuting_choice['alternative'].unique()))\n",
    "LL_0 = np.log(1/num_alt) * num_observation\n",
    "print('McFadden R Square of MNL:',1-LL_MNL/LL_0)"
   ]
  },
  {
   "cell_type": "markdown",
   "id": "10a531b8-d794-449a-bf40-ed789e12591e",
   "metadata": {},
   "source": [
    "#### In MXL, parameters are assumed to follow a parameteric distribution (e.g. normal, uniform, triangular)"
   ]
  },
  {
   "cell_type": "code",
   "execution_count": 10,
   "id": "d07c7b04-c916-41ad-905c-fc5ccc36998e",
   "metadata": {},
   "outputs": [
    {
     "name": "stdout",
     "output_type": "stream",
     "text": [
      "Optimization terminated successfully.\n",
      "    Message: The gradients are close to zero\n",
      "    Iterations: 23\n",
      "    Function evaluations: 54\n",
      "Estimation time= 39.0 seconds\n",
      "---------------------------------------------------------------------------\n",
      "Coefficient              Estimate      Std.Err.         z-val         P>|z|\n",
      "---------------------------------------------------------------------------\n",
      "t_commute              -9.5313549     0.1381162   -69.0096741             0 ***\n",
      "c_commute              -1.4454435     0.2010687    -7.1888058      6.71e-13 ***\n",
      "M_commute2              0.0882339     0.1659243     0.5317718         0.595    \n",
      "SDE_work               -7.2840633     0.1709194   -42.6169487             0 ***\n",
      "SDL_work               -8.3119172     0.4460536   -18.6343450      5.34e-77 ***\n",
      "PL_work                -1.7446962     0.5169959    -3.3746809       0.00074 ***\n",
      "ln_dwork               23.2591849     0.6398418    36.3514641     2.64e-282 ***\n",
      "sd.t_commute            4.0906957     0.4048290    10.1047497      5.82e-24 ***\n",
      "sd.c_commute           -0.0389699     0.6843183    -0.0569471         0.955    \n",
      "sd.M_commute2          -0.0376307     0.4960866    -0.0758552          0.94    \n",
      "sd.SDE_work            -0.0062983     0.6971763    -0.0090340         0.993    \n",
      "sd.SDL_work             6.2748646     0.4752206    13.2041102      1.11e-39 ***\n",
      "sd.ln_dwork            -0.0998099     1.3567030    -0.0735680         0.941    \n",
      "---------------------------------------------------------------------------\n",
      "Significance:  0 '***' 0.001 '**' 0.01 '*' 0.05 '.' 0.1 ' ' 1\n",
      "\n",
      "Log-Likelihood= -61124.908\n",
      "AIC= 122275.815\n",
      "BIC= 122382.046\n"
     ]
    }
   ],
   "source": [
    "varnames = ['t_commute','c_commute','M_commute2','SDE_work','SDL_work','PL_work','ln_dwork']\n",
    "\n",
    "MXL = MixedLogit()\n",
    "MXL.fit(X=Commuting_choice_ms[varnames], y=Commuting_choice_ms['chosen'], varnames=varnames,\n",
    "        ids=Commuting_choice_ms['iid'],alts=Commuting_choice_ms['alternative'],\n",
    "        randvars={'t_commute':'n','c_commute':'n','M_commute2':'n','SDE_work':'n','SDL_work':'n','ln_dwork':'n'},\n",
    "        n_draws=100)\n",
    "\n",
    "MXL.summary()"
   ]
  },
  {
   "cell_type": "code",
   "execution_count": 11,
   "id": "59b3db81-6fdf-4a45-b4f4-f5621fb71657",
   "metadata": {},
   "outputs": [
    {
     "name": "stdout",
     "output_type": "stream",
     "text": [
      "McFadden R Square of MNL: 0.11424358507354293\n"
     ]
    }
   ],
   "source": [
    "LL_MXL = MXL.loglikelihood\n",
    "print('McFadden R Square of MXL:',1-LL_MXL/LL_0)"
   ]
  },
  {
   "cell_type": "markdown",
   "id": "dc8dc6c6-2e22-4ddc-b7ff-4cd6cb4ddf78",
   "metadata": {},
   "source": [
    "### 4.Estimate AMXL"
   ]
  },
  {
   "cell_type": "markdown",
   "id": "eef84921-8ead-4067-895d-9d56dd58fce3",
   "metadata": {},
   "source": [
    "#### In AMXL, each agent (an individual or a group of individuals) has a unique set of parameters"
   ]
  },
  {
   "cell_type": "markdown",
   "id": "d175812f-64c7-4383-abdd-415059f72ba7",
   "metadata": {},
   "source": [
    "<img src=\"image/AMXL.jpg\" style=\"width:40%\">"
   ]
  },
  {
   "cell_type": "code",
   "execution_count": 29,
   "id": "1f5e4cf8-2700-4465-9b87-e7ced6449b8b",
   "metadata": {},
   "outputs": [],
   "source": [
    "import AMXL_functions\n",
    "import importlib\n",
    "importlib.reload(AMXL_functions)\n",
    "from AMXL_functions import solve_agent_commuting,One_iteration_AMXL"
   ]
  },
  {
   "cell_type": "code",
   "execution_count": 13,
   "id": "286767e5-ad67-4b44-9a72-400620c5908d",
   "metadata": {},
   "outputs": [
    {
     "name": "stdout",
     "output_type": "stream",
     "text": [
      "Individual 1\n",
      "   t_commute  c_commute  M_commute2  SDE_work  SDL_work   PL_work  ln_dwork\n",
      "0  -0.333369   0.401597   -0.635861  0.827855 -0.227997 -0.555283  0.298294\n",
      "------------------\n",
      "Individual 2\n",
      "   t_commute  c_commute  M_commute2  SDE_work  SDL_work  PL_work  ln_dwork\n",
      "0        0.0        0.0         0.0  4.283428       0.0      0.0  1.244082\n"
     ]
    }
   ],
   "source": [
    "alter_num_c = int(Commuting_choice_ms.groupby('iid').agg({'hw_od':'count'}).mean().values)\n",
    "np.random.seed(8521)\n",
    "epsilon_c = np.random.gumbel(0,1,26149*alter_num_c).reshape(26149,alter_num_c)\n",
    "\n",
    "print('Individual 1')\n",
    "iid = 560\n",
    "aa = Commuting_choice_ms[Commuting_choice_ms['iid']==iid]\n",
    "variable,Z = solve_agent_commuting(aa,[0,0,0,0,0,0,0],epsilon_c,iid=iid,safe_boundary=0.5)\n",
    "print(pd.DataFrame(variable[None,:],columns=varnames))\n",
    "print('------------------')\n",
    "\n",
    "print('Individual 2')\n",
    "iid = 132\n",
    "aa = Commuting_choice_ms[Commuting_choice_ms['iid']==iid]\n",
    "variable,Z = solve_agent_commuting(aa,[0,0,0,0,0,0,0],epsilon_c,iid=iid,safe_boundary=0.5)\n",
    "print(pd.DataFrame(variable[None,:],columns=varnames))"
   ]
  },
  {
   "cell_type": "markdown",
   "id": "f757ab8a-aad7-4311-8c66-96260218a5b3",
   "metadata": {},
   "source": [
    "### 5.Let's try 500 sample and compare MNL, MXL, AMXL"
   ]
  },
  {
   "cell_type": "code",
   "execution_count": 84,
   "id": "2c42b2ac-7612-48e0-b7d7-4b2ee2fba001",
   "metadata": {},
   "outputs": [
    {
     "name": "stdout",
     "output_type": "stream",
     "text": [
      "Estimation time of AMXL per iteration: 5.8 seconds\n"
     ]
    }
   ],
   "source": [
    "sample_size = 500\n",
    "data_sample = Commuting_choice_ms.iloc[:sample_size*num_alt]\n",
    "\n",
    "shuffle = range(1,26150)\n",
    "theta_0 = [0,0,0,0,0,0,0]\n",
    "start_time = time.time()\n",
    "theta_0, theta_i, sb_c = One_iteration_AMXL(data_sample, shuffle, epsilon_c, theta_0, \n",
    "                                           sample_size=sample_size,bound=30,boundary_max=3,boundary_min=1,step=0.4)\n",
    "end_time = time.time()\n",
    "print('Estimation time of AMXL per iteration: %.1f seconds'%(end_time-start_time))"
   ]
  },
  {
   "cell_type": "code",
   "execution_count": 85,
   "id": "e0dedad4-588b-4779-a729-f404076e6313",
   "metadata": {},
   "outputs": [
    {
     "name": "stdout",
     "output_type": "stream",
     "text": [
      "Estimation time of MNL: 0.02 seconds\n"
     ]
    }
   ],
   "source": [
    "start_time = time.time()\n",
    "MNL.fit(X=data_sample[varnames], y=data_sample['chosen'], varnames=varnames,\n",
    "        ids=data_sample['iid'],alts=data_sample['alternative'])\n",
    "end_time = time.time()\n",
    "print('Estimation time of MNL: %.2f seconds'%(end_time-start_time))"
   ]
  },
  {
   "cell_type": "code",
   "execution_count": 86,
   "id": "c8c65234-beab-44da-b7fa-cb2d6074a331",
   "metadata": {},
   "outputs": [
    {
     "name": "stdout",
     "output_type": "stream",
     "text": [
      "Estimation time of MXL: 0.2 seconds\n"
     ]
    }
   ],
   "source": [
    "start_time = time.time()\n",
    "MXL.fit(X=data_sample[varnames], y=data_sample['chosen'], varnames=varnames,\n",
    "        ids=data_sample['iid'],alts=data_sample['alternative'],\n",
    "        randvars={'t_commute':'n','c_commute':'n','M_commute2':'n','SDE_work':'n','SDL_work':'n','ln_dwork':'n'},\n",
    "        n_draws=100)\n",
    "end_time = time.time()\n",
    "print('Estimation time of MXL: %.1f seconds'%(end_time-start_time))"
   ]
  },
  {
   "cell_type": "code",
   "execution_count": 87,
   "id": "89823ffc-f190-4978-b3f6-f3083cba615f",
   "metadata": {},
   "outputs": [
    {
     "name": "stdout",
     "output_type": "stream",
     "text": [
      "McFadden R Square of MNL: 0.37663953031518227\n",
      "McFadden R Square of MXL: 0.38226595860042545\n",
      "McFadden R Square of AMXL: 0.7959300109727356\n"
     ]
    }
   ],
   "source": [
    "X = [Commuting_choice_ms[Commuting_choice_ms['iid']==iid][varnames].values for iid in range(1,sample_size+1)]\n",
    "X = np.array(X)\n",
    "X = np.transpose(X, (0, 2, 1)) # shape (sessions,attributes,alternatives)\n",
    "Y = [Commuting_choice_ms[Commuting_choice_ms['iid']==iid]['chosen'].values for iid in range(1,sample_size+1)]\n",
    "Y = np.array(Y)\n",
    "\n",
    "V = (X * theta_i[:,:,None]).sum(axis=1)\n",
    "V = V - V.min(axis=1)[:,None]\n",
    "demo = np.exp(V).sum(axis=1).reshape(X.shape[0],1)\n",
    "P = np.exp(V) / demo\n",
    "LL_0 = np.log(1/num_alt) * sample_size\n",
    "\n",
    "LL_MNL = MNL.loglikelihood\n",
    "print('McFadden R Square of MNL:',1-LL_MNL/LL_0)\n",
    "LL_MXL = MXL.loglikelihood\n",
    "print('McFadden R Square of MXL:',1-LL_MXL/LL_0)\n",
    "LL_AMXL = -log_loss(Y, P, normalize=False)\n",
    "print('McFadden R Square of AMXL:',(1 - LL_AMXL/LL_0))"
   ]
  },
  {
   "cell_type": "markdown",
   "id": "211b259a-e76d-4171-bac9-aab0cfd48b5d",
   "metadata": {},
   "source": [
    "### 6.Overfitting Issues in AMXL"
   ]
  },
  {
   "cell_type": "markdown",
   "id": "b245a5c4-82ce-442c-8b8e-b94053632150",
   "metadata": {},
   "source": [
    "<img src=\"image/AMXL_out_of_sample_accuracy.jpg\" style=\"width:100%\">"
   ]
  },
  {
   "cell_type": "markdown",
   "id": "d2a25916-c406-42cb-93e2-80bf8c60b493",
   "metadata": {},
   "source": [
    "# Example 2: Group-level AMXL for Statewide Mode Choice"
   ]
  },
  {
   "cell_type": "code",
   "execution_count": null,
   "id": "cba43487-c87f-49a7-b6ff-2597c4c7b647",
   "metadata": {},
   "outputs": [],
   "source": []
  }
 ],
 "metadata": {
  "kernelspec": {
   "display_name": "Python 3 (ipykernel)",
   "language": "python",
   "name": "python3"
  },
  "language_info": {
   "codemirror_mode": {
    "name": "ipython",
    "version": 3
   },
   "file_extension": ".py",
   "mimetype": "text/x-python",
   "name": "python",
   "nbconvert_exporter": "python",
   "pygments_lexer": "ipython3",
   "version": "3.11.11"
  }
 },
 "nbformat": 4,
 "nbformat_minor": 5
}
