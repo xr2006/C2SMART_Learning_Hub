{
 "cells": [
  {
   "cell_type": "markdown",
   "id": "4296ed0a-33b2-4d25-944e-0b1a513a8e14",
   "metadata": {},
   "source": [
    "# Discrete Choice Modeling for Travel Behavior Analysis: From Multinomial Logit to More Advanced Forms"
   ]
  },
  {
   "cell_type": "markdown",
   "id": "69717c65-18a9-4534-8863-e9bc8e8a6c07",
   "metadata": {},
   "source": [
    "## C2SMARTER Student Learning Hub Series"
   ]
  },
  {
   "cell_type": "markdown",
   "id": "0ac1b49c-c5be-4365-aa9d-78f9f0ffc208",
   "metadata": {},
   "source": [
    "### Xiyuan Ren\n",
    "### April 11, 2025"
   ]
  },
  {
   "cell_type": "markdown",
   "id": "c4a3dcff-f309-460b-b29f-9c4c01b6d2c6",
   "metadata": {},
   "source": [
    "#### ---------------------"
   ]
  },
  {
   "cell_type": "code",
   "execution_count": null,
   "id": "6fea1527-1410-4836-8d3a-88f067c9f176",
   "metadata": {},
   "outputs": [],
   "source": [
    "import numpy as np\n",
    "import pandas as pd\n",
    "import matplotlib.pyplot as plt\n",
    "import cvxpy as cp\n",
    "import xlogit\n",
    "import warnings\n",
    "warnings.filterwarnings('ignore')\n",
    "import time\n",
    "from sklearn.preprocessing import MinMaxScaler\n",
    "from sklearn.metrics import log_loss\n",
    "from math import radians, cos, sin, asin, sqrt\n",
    "import pickle\n",
    "import geopandas as gpd\n",
    "import mapclassify\n",
    "import webbrowser, pathlib"
   ]
  },
  {
   "cell_type": "markdown",
   "id": "4b7ed6a4-6f8e-4f51-8c53-a7f765b7e281",
   "metadata": {},
   "source": [
    "## Example 1: MNL, NL, MXL for Commute Choice Modeling "
   ]
  },
  {
   "cell_type": "markdown",
   "id": "d068b1b1-92cc-4448-8f62-3120ab5c6bcd",
   "metadata": {},
   "source": [
    "Ren, X., & Chow, J. Y. (2022). A random-utility-consistent machine learning method to estimate agents’ joint activity scheduling choice from a ubiquitous data set. Transportation Research Part B: Methodological, 166, 396-418."
   ]
  },
  {
   "cell_type": "markdown",
   "id": "2b9dd49c-8f07-40de-b98f-152cc531e918",
   "metadata": {},
   "source": [
    "<img src=\"image/commute_choice.jpg\" style=\"width:90%\">"
   ]
  },
  {
   "cell_type": "markdown",
   "id": "03f2cd90-4696-4d3e-8148-41520e9e04d0",
   "metadata": {},
   "source": [
    "### 1.Data Structure"
   ]
  },
  {
   "cell_type": "code",
   "execution_count": null,
   "id": "9b69fe95-f072-4da9-97f5-ae76318b40d6",
   "metadata": {},
   "outputs": [],
   "source": [
    "Commuting_choice = pd.read_csv(\"Commuting_choice_0507.csv\")"
   ]
  },
  {
   "cell_type": "code",
   "execution_count": null,
   "id": "738c14d7-75b4-401e-a478-93b8eac4233b",
   "metadata": {},
   "outputs": [],
   "source": [
    "Commuting_choice.head()"
   ]
  },
  {
   "cell_type": "code",
   "execution_count": null,
   "id": "c3aa6f2d-6220-4b5e-b56f-610b1921b574",
   "metadata": {},
   "outputs": [],
   "source": [
    "print('Number of rows:',len(Commuting_choice))\n",
    "print('Number of individuals:',len(Commuting_choice['iid'].unique()))\n",
    "print('Number of choice observations:',int(len(Commuting_choice)/len(Commuting_choice['alternative'].unique())))\n",
    "print('Number of alternatives:',len(Commuting_choice['alternative'].unique()))"
   ]
  },
  {
   "cell_type": "code",
   "execution_count": null,
   "id": "354d54a5-f6e8-4914-a5ee-72cb6d0ded28",
   "metadata": {},
   "outputs": [],
   "source": [
    "print(Commuting_choice['alternative'].unique())"
   ]
  },
  {
   "cell_type": "markdown",
   "id": "2fa86ec8-c866-44f8-bda0-271562014a69",
   "metadata": {},
   "source": [
    "### 2.Utility function\n",
    "#### $$U_{ij}=\\theta_{time}time_{commute}+\\theta_{cost}cost_{commute}+\\theta_{mode}mode_{commute}+\\theta_{SDE}SDE+\\theta_{SDL}SDL+\\theta_{PL}PL+\\theta_{duration}Dur_{work}+\\epsilon_{i,j}$$ where:\n",
    "$time_{commute}$: commuting travel time (vary across i,j)\n",
    "\n",
    "$cost_{commute}$: commuting travel cost (vary across i,j)\n",
    "\n",
    "$mode_{commute}$: commuting mode constant (vary across j)\n",
    "\n",
    "$SDE$: schedule deviation--earlier than regular workplace arrival time (vary across i,j)\n",
    "\n",
    "$SDL$: schedule deviation--later than regular workplace arrival time (vary across i,j)\n",
    "\n",
    "$PL$: additional penalty for being late for work (vary across i,j)\n",
    "\n",
    "$Dur_{work}$: total work duration (vary across i,j)\n",
    "\n",
    "$\\epsilon_{i,j}$: random disturbance following Gumbel distribution (vary across i for each j)"
   ]
  },
  {
   "cell_type": "markdown",
   "id": "5b68cbf4-6dfd-4ea6-aa13-4c74a42b07b3",
   "metadata": {},
   "source": [
    "### 3.Estimate MNL and MXL using xlogit"
   ]
  },
  {
   "cell_type": "markdown",
   "id": "bcca4375-8c3b-4778-a698-fb97a97e69b0",
   "metadata": {},
   "source": [
    "Arteaga, C., Park, J., Beeramoole, P. B., & Paz, A. (2022). xlogit: An open-source Python package for GPU-accelerated estimation of Mixed Logit models. Journal of Choice Modelling, 42, 100339."
   ]
  },
  {
   "cell_type": "code",
   "execution_count": null,
   "id": "56315b5f-5d74-4eec-bab4-c62bb78b9d92",
   "metadata": {},
   "outputs": [],
   "source": [
    "from sklearn.preprocessing import MinMaxScaler\n",
    "ms = MinMaxScaler()\n",
    "Commuting_choice_ms = Commuting_choice.copy(deep=True)\n",
    "Commuting_choice_ms.iloc[:,3:-1] = ms.fit_transform(Commuting_choice_ms.iloc[:,3:-1].values)"
   ]
  },
  {
   "cell_type": "code",
   "execution_count": null,
   "id": "9440f8bd-3c34-4c38-808b-ac1500d462cb",
   "metadata": {},
   "outputs": [],
   "source": [
    "from xlogit import MultinomialLogit, MixedLogit"
   ]
  },
  {
   "cell_type": "markdown",
   "id": "39c69754-779f-400b-8512-3702fb7805ee",
   "metadata": {},
   "source": [
    "#### In MNL, all parameters (theta) are assummed to be fixed values"
   ]
  },
  {
   "cell_type": "code",
   "execution_count": null,
   "id": "1650a38e-57fa-4322-a81c-a3677bca6b54",
   "metadata": {},
   "outputs": [],
   "source": [
    "varnames = ['t_commute','c_commute','M_commute2','SDE_work','SDL_work','PL_work','ln_dwork']\n",
    "\n",
    "MNL = MultinomialLogit()\n",
    "MNL.fit(X=Commuting_choice_ms[varnames], y=Commuting_choice_ms['chosen'], varnames=varnames,\n",
    "        ids=Commuting_choice_ms['iid'],alts=Commuting_choice_ms['alternative'])\n",
    "\n",
    "MNL.summary()"
   ]
  },
  {
   "cell_type": "markdown",
   "id": "6b6a7b5a-9f15-442a-916f-c5b82f2ac6ae",
   "metadata": {},
   "source": [
    "$$\\mathrm{Loglikelihood} \\;=\\; \\sum_{i=1}^{N} \\sum_{j=1}^{J} y_{ij}\\,\\ln P_{ij}$$\n",
    "$$McFadden \\space R^2 \\;=\\; 1 \\;-\\; \\frac{LL(\\beta)}{LL(0)}$$"
   ]
  },
  {
   "cell_type": "code",
   "execution_count": null,
   "id": "bda1d8e9-4e31-4950-87ba-eb36ecf7127f",
   "metadata": {},
   "outputs": [],
   "source": [
    "LL_MNL = MNL.loglikelihood\n",
    "num_alt = len(Commuting_choice['alternative'].unique())\n",
    "num_observation = int(len(Commuting_choice)/len(Commuting_choice['alternative'].unique()))\n",
    "LL_0 = np.log(1/num_alt) * num_observation\n",
    "print('McFadden R Square of MNL:',1-LL_MNL/LL_0)"
   ]
  },
  {
   "cell_type": "markdown",
   "id": "10a531b8-d794-449a-bf40-ed789e12591e",
   "metadata": {},
   "source": [
    "#### In MXL, parameters are assumed to follow a parameteric distribution (e.g. normal, uniform, triangular)"
   ]
  },
  {
   "cell_type": "code",
   "execution_count": null,
   "id": "d07c7b04-c916-41ad-905c-fc5ccc36998e",
   "metadata": {},
   "outputs": [],
   "source": [
    "varnames = ['t_commute','c_commute','M_commute2','SDE_work','SDL_work','PL_work','ln_dwork']\n",
    "\n",
    "MXL = MixedLogit()\n",
    "MXL.fit(X=Commuting_choice_ms[varnames], y=Commuting_choice_ms['chosen'], varnames=varnames,\n",
    "        ids=Commuting_choice_ms['iid'],alts=Commuting_choice_ms['alternative'],\n",
    "        randvars={'t_commute':'n','c_commute':'n','M_commute2':'n','SDE_work':'n','SDL_work':'n','ln_dwork':'n'},\n",
    "        n_draws=100)\n",
    "\n",
    "MXL.summary()"
   ]
  },
  {
   "cell_type": "code",
   "execution_count": null,
   "id": "59b3db81-6fdf-4a45-b4f4-f5621fb71657",
   "metadata": {},
   "outputs": [],
   "source": [
    "LL_MXL = MXL.loglikelihood\n",
    "print('McFadden R Square of MXL:',1-LL_MXL/LL_0)"
   ]
  },
  {
   "cell_type": "markdown",
   "id": "dc8dc6c6-2e22-4ddc-b7ff-4cd6cb4ddf78",
   "metadata": {},
   "source": [
    "### 4.Estimate AMXL"
   ]
  },
  {
   "cell_type": "markdown",
   "id": "eef84921-8ead-4067-895d-9d56dd58fce3",
   "metadata": {},
   "source": [
    "#### In AMXL, each agent (an individual or a group of individuals) has a unique set of parameters"
   ]
  },
  {
   "cell_type": "markdown",
   "id": "d175812f-64c7-4383-abdd-415059f72ba7",
   "metadata": {},
   "source": [
    "<img src=\"image/AMXL.jpg\" style=\"width:40%\">"
   ]
  },
  {
   "cell_type": "code",
   "execution_count": null,
   "id": "1f5e4cf8-2700-4465-9b87-e7ced6449b8b",
   "metadata": {},
   "outputs": [],
   "source": [
    "import AMXL_functions\n",
    "import importlib\n",
    "importlib.reload(AMXL_functions)\n",
    "from AMXL_functions import solve_agent_commuting,One_iteration_AMXL"
   ]
  },
  {
   "cell_type": "code",
   "execution_count": null,
   "id": "286767e5-ad67-4b44-9a72-400620c5908d",
   "metadata": {},
   "outputs": [],
   "source": [
    "alter_num_c = int(Commuting_choice_ms.groupby('iid').agg({'hw_od':'count'}).mean().values)\n",
    "np.random.seed(8521)\n",
    "epsilon_c = np.random.gumbel(0,1,26149*alter_num_c).reshape(26149,alter_num_c)\n",
    "\n",
    "print('Individual 1')\n",
    "iid = 560\n",
    "aa = Commuting_choice_ms[Commuting_choice_ms['iid']==iid]\n",
    "variable,Z = solve_agent_commuting(aa,[0,0,0,0,0,0,0],epsilon_c,iid=iid,safe_boundary=0.5)\n",
    "print(pd.DataFrame(variable[None,:],columns=varnames))\n",
    "print('------------------')\n",
    "\n",
    "print('Individual 2')\n",
    "iid = 132\n",
    "aa = Commuting_choice_ms[Commuting_choice_ms['iid']==iid]\n",
    "variable,Z = solve_agent_commuting(aa,[0,0,0,0,0,0,0],epsilon_c,iid=iid,safe_boundary=0.5)\n",
    "print(pd.DataFrame(variable[None,:],columns=varnames))"
   ]
  },
  {
   "cell_type": "markdown",
   "id": "f757ab8a-aad7-4311-8c66-96260218a5b3",
   "metadata": {},
   "source": [
    "### 5.Let's try 500 sample and compare MNL, MXL, AMXL"
   ]
  },
  {
   "cell_type": "code",
   "execution_count": null,
   "id": "2c42b2ac-7612-48e0-b7d7-4b2ee2fba001",
   "metadata": {},
   "outputs": [],
   "source": [
    "sample_size = 500\n",
    "data_sample = Commuting_choice_ms.iloc[:sample_size*num_alt]\n",
    "\n",
    "shuffle = range(1,26150)\n",
    "theta_0 = [0,0,0,0,0,0,0]\n",
    "start_time = time.time()\n",
    "theta_0, theta_i, sb_c = One_iteration_AMXL(data_sample, shuffle, epsilon_c, theta_0, \n",
    "                                           sample_size=sample_size,bound=30,boundary_max=3,boundary_min=1,step=0.4)\n",
    "end_time = time.time()\n",
    "print('Estimation time of AMXL per iteration: %.1f seconds'%(end_time-start_time))"
   ]
  },
  {
   "cell_type": "code",
   "execution_count": null,
   "id": "e0dedad4-588b-4779-a729-f404076e6313",
   "metadata": {},
   "outputs": [],
   "source": [
    "start_time = time.time()\n",
    "MNL.fit(X=data_sample[varnames], y=data_sample['chosen'], varnames=varnames,\n",
    "        ids=data_sample['iid'],alts=data_sample['alternative'])\n",
    "end_time = time.time()\n",
    "print('Estimation time of MNL: %.2f seconds'%(end_time-start_time))"
   ]
  },
  {
   "cell_type": "code",
   "execution_count": null,
   "id": "c8c65234-beab-44da-b7fa-cb2d6074a331",
   "metadata": {},
   "outputs": [],
   "source": [
    "start_time = time.time()\n",
    "MXL.fit(X=data_sample[varnames], y=data_sample['chosen'], varnames=varnames,\n",
    "        ids=data_sample['iid'],alts=data_sample['alternative'],\n",
    "        randvars={'t_commute':'n','c_commute':'n','M_commute2':'n','SDE_work':'n','SDL_work':'n','ln_dwork':'n'},\n",
    "        n_draws=100)\n",
    "end_time = time.time()\n",
    "print('Estimation time of MXL: %.1f seconds'%(end_time-start_time))"
   ]
  },
  {
   "cell_type": "code",
   "execution_count": null,
   "id": "89823ffc-f190-4978-b3f6-f3083cba615f",
   "metadata": {},
   "outputs": [],
   "source": [
    "X = [Commuting_choice_ms[Commuting_choice_ms['iid']==iid][varnames].values for iid in range(1,sample_size+1)]\n",
    "X = np.array(X)\n",
    "X = np.transpose(X, (0, 2, 1)) # shape (sessions,attributes,alternatives)\n",
    "Y = [Commuting_choice_ms[Commuting_choice_ms['iid']==iid]['chosen'].values for iid in range(1,sample_size+1)]\n",
    "Y = np.array(Y)\n",
    "\n",
    "V = (X * theta_i[:,:,None]).sum(axis=1)\n",
    "V = V - V.min(axis=1)[:,None]\n",
    "demo = np.exp(V).sum(axis=1).reshape(X.shape[0],1)\n",
    "P = np.exp(V) / demo\n",
    "LL_0 = np.log(1/num_alt) * sample_size\n",
    "\n",
    "LL_MNL = MNL.loglikelihood\n",
    "print('McFadden R Square of MNL:',1-LL_MNL/LL_0)\n",
    "LL_MXL = MXL.loglikelihood\n",
    "print('McFadden R Square of MXL:',1-LL_MXL/LL_0)\n",
    "LL_AMXL = -log_loss(Y, P, normalize=False)\n",
    "print('McFadden R Square of AMXL:',(1 - LL_AMXL/LL_0))"
   ]
  },
  {
   "cell_type": "markdown",
   "id": "211b259a-e76d-4171-bac9-aab0cfd48b5d",
   "metadata": {},
   "source": [
    "### 6.Overfitting Issues in AMXL"
   ]
  },
  {
   "cell_type": "markdown",
   "id": "b245a5c4-82ce-442c-8b8e-b94053632150",
   "metadata": {},
   "source": [
    "<img src=\"image/AMXL_out_of_sample_accuracy.jpg\" style=\"width:90%\">"
   ]
  },
  {
   "cell_type": "markdown",
   "id": "d2a25916-c406-42cb-93e2-80bf8c60b493",
   "metadata": {},
   "source": [
    "# Example 2: Group-level AMXL for Statewide Mode Choice"
   ]
  },
  {
   "cell_type": "markdown",
   "id": "50433d38-4045-4a46-9462-af08d65fb22c",
   "metadata": {},
   "source": [
    "Ren, X., Chow, J. Y., Bansal P. (2025). Estimating a k-modal nonparametric mixed logit model with market-level data, Transportation Research Part B: Methodological, accepted. https://arxiv.org/abs/2309.13159"
   ]
  },
  {
   "cell_type": "markdown",
   "id": "2688b22b-dcac-4a5a-be9b-b317606bcc3d",
   "metadata": {},
   "source": [
    "<img src=\"image/OD_data.jpg\" style=\"width:90%\">"
   ]
  },
  {
   "cell_type": "markdown",
   "id": "3ba98912-489b-449f-a3b1-eb024563485a",
   "metadata": {},
   "source": [
    "### 1.Data Structure"
   ]
  },
  {
   "cell_type": "code",
   "execution_count": null,
   "id": "024c72a8-87ec-4171-adbb-e28ce9258d03",
   "metadata": {},
   "outputs": [],
   "source": [
    "with open('X_all.pickle', 'rb') as handle:\n",
    "    X = pickle.load(handle)\n",
    "with open('Y_all.pickle', 'rb') as handle:\n",
    "    Y = pickle.load(handle)\n",
    "with open('num_all.pickle', 'rb') as handle:\n",
    "    num = pickle.load(handle)\n",
    "with open('id_all.pickle', 'rb') as handle:\n",
    "    group_id = pickle.load(handle)"
   ]
  },
  {
   "cell_type": "code",
   "execution_count": null,
   "id": "043a4247-266a-463f-9ff5-7c23b108420c",
   "metadata": {},
   "outputs": [],
   "source": [
    "print(X.shape)\n",
    "print(Y.shape)"
   ]
  },
  {
   "cell_type": "code",
   "execution_count": null,
   "id": "0e09d649-0e04-48f8-b55d-73d023e7370d",
   "metadata": {},
   "outputs": [],
   "source": [
    "var_name = ['auto_tt','transit_ivt','transit_at','transit_et','transit_nt','non_vehicle_tt',\n",
    "              'cost','constant_driving','constant_transit','constant_ondemand','constant_biking','constant_walking']\n",
    "mode_name = ['Driving','Transit','On-demand','Biking','Walking','Carpool']"
   ]
  },
  {
   "cell_type": "code",
   "execution_count": null,
   "id": "f8d04658-a183-4658-923a-aac04468fedd",
   "metadata": {},
   "outputs": [],
   "source": [
    "gid = 100\n",
    "print('Market/Group ID:',group_id[gid])\n",
    "print('Number of trips per day:',num[gid])"
   ]
  },
  {
   "cell_type": "code",
   "execution_count": null,
   "id": "f99cfe81-a0d7-445d-90f6-5624848adfe7",
   "metadata": {},
   "outputs": [],
   "source": [
    "pd.DataFrame(X[gid].T, columns=var_name, index=mode_name)"
   ]
  },
  {
   "cell_type": "code",
   "execution_count": null,
   "id": "d1caa90f-4734-40b2-9d6f-c74f79bb615d",
   "metadata": {},
   "outputs": [],
   "source": [
    "pd.DataFrame(Y[gid].T, columns=['Mode Share'], index=mode_name)"
   ]
  },
  {
   "cell_type": "markdown",
   "id": "fc77b5c9-7662-424e-ab0a-bdc136c71930",
   "metadata": {},
   "source": [
    "### 2.Utility function\n",
    "<div style=\"font-size: 130%;\">\n",
    "$$V_{driving,t}=\\theta_{\\text{\\textit{auto-tt}},t}\\text{\\textit{Auto-tt}}_{driving,t}+\\theta_{cost,t}Cost_{driving,t}+\\theta_{asc-driving,t}$$\n",
    "$$V_{transit,t}=\\theta_{AT,t}\\text{\\textit{AT}}_{transit,t}+\\theta_{ET,t}\\text{\\textit{ET}}_{transit,t}+\\theta_{IVT,t}\\text{\\textit{IVT}}_{transit,t}+\\theta_{NT,t}\\text{\\textit{NT}}_{transit,t}+\\theta_{cost,t}Cost_{transit,t}+\\theta_{asc-transit,t}$$\n",
    "$$V_{ondemand,t}=\\theta_{\\text{\\textit{auto-tt}},t}{\\textit{Auto-tt}}_{ondemand,t}+\\theta_{cost,t}Cost_{ondemand,t}+\\theta_{asc-ondemand,t}$$  \n",
    "$$V_{biking,t}=\\theta_{\\text{\\textit{non-auto-tt}},t}{\\textit{Non-auto-tt}}_{biking,t} +\\theta_{asc-biking,t}$$ \n",
    "$$V_{walking,t}=\\theta_{\\text{\\textit{non-auto-tt}},t}{\\textit{Non-auto-tt}}_{walking,t} +\\theta_{asc-walking,t}$$\n",
    "$$V_{carpool,t}=\\theta_{\\text{\\textit{auto-tt}},t}\\text{\\textit{Auto-tt}}_{carpool,t}+\\theta_{cost,t}Cost_{carpool,t}$$\n",
    "</div>\n",
    "\n",
    "where:\n",
    "\n",
    "$\\text{\\textit{Auto-tt}}$: Auto travel time (unit: hour)\n",
    "\n",
    "$AT$: Transit access time (unit:hour)\n",
    "\n",
    "$ET$: Transit egress time (unit:hour)\n",
    "\n",
    "$IVT$: Transit in-vehicle time (unit:hour)\n",
    "\n",
    "$NT$: Transit number of transfers\n",
    "\n",
    "$Cost$: Travel cost/ trip fare (unit:$)"
   ]
  },
  {
   "cell_type": "markdown",
   "id": "9450214d-73b0-4127-a261-778b2d9d15f0",
   "metadata": {},
   "source": [
    "### 3. Estimate Group-level AMXL"
   ]
  },
  {
   "cell_type": "code",
   "execution_count": null,
   "id": "27321957-952e-458f-99ce-c0725d5a7493",
   "metadata": {},
   "outputs": [],
   "source": [
    "import AMXL_functions\n",
    "import importlib\n",
    "importlib.reload(AMXL_functions)\n",
    "from AMXL_functions import group_level_IO"
   ]
  },
  {
   "cell_type": "code",
   "execution_count": null,
   "id": "e0966b60-7145-432b-8709-94686adef78e",
   "metadata": {},
   "outputs": [],
   "source": [
    "var_name = ['auto_tt','transit_ivt','transit_at','transit_et','transit_nt','non_vehicle_tt',\n",
    "              'cost','constant_driving','constant_transit','constant_ondemand','constant_biking','constant_walking']\n",
    "lb = [-10,-10,-10,-10,-10,-10,-10,-10,-10,-10,-10,-10]\n",
    "ub = [0,0,0,0,0,0,0,10,10,10,10,10]"
   ]
  },
  {
   "cell_type": "code",
   "execution_count": null,
   "id": "c8f81b29-15ed-4557-a7fa-3a62c7dc5bc9",
   "metadata": {},
   "outputs": [],
   "source": [
    "gid = 3\n",
    "Y_line = Y[gid,:]\n",
    "X_line = X[gid,:,:]\n",
    "theta_0 = np.zeros(len(var_name))\n",
    "theta,Z,rho,mse,mae,LL,LL_0,P = group_level_IO(Y_line,X_line,theta_0,lb=lb,ub=ub,tol=0.1)\n",
    "print('Market/Group ID:',group_id[gid])\n",
    "print('Number of trips per day:',num[gid])\n",
    "print('Mean absolute error per mode share: %.2f%%'%(mae*100))\n",
    "print('McFadden R-square: %.4f'%(rho))\n",
    "print('-----------')\n",
    "print(pd.DataFrame(theta[None,:],columns=var_name,index=['Estimated Value']).round(4).T)"
   ]
  },
  {
   "cell_type": "markdown",
   "id": "d9f5d0d6-9bf1-41e5-8db5-a42e33543b9e",
   "metadata": {},
   "source": [
    "### 4. Explore the distribution of mode choice parameters"
   ]
  },
  {
   "cell_type": "markdown",
   "id": "be196a4b-19bb-49ec-9e50-ae41316dd062",
   "metadata": {},
   "source": [
    "Estimated parameters for New York State: https://zenodo.org/records/8113817"
   ]
  },
  {
   "cell_type": "code",
   "execution_count": null,
   "id": "4150eb9f-653e-4c13-bcb5-6699d3d6538e",
   "metadata": {},
   "outputs": [],
   "source": [
    "all_agents = gpd.read_file(\"shapefile/all_agents.shp\")\n",
    "all_agents.rename(columns={'origin_bgr':'origin_bgrp','destinatio':'destination_bgrp','length':'Trip_length'},inplace=True)"
   ]
  },
  {
   "cell_type": "code",
   "execution_count": null,
   "id": "a8a7671e-7957-4303-84d1-b8f7e9e4ae3f",
   "metadata": {},
   "outputs": [],
   "source": [
    "fig,ax = plt.subplots(figsize=(8,8))\n",
    "all_agents.plot(ax=ax,linewidth=0.2)\n",
    "ax.axis('off')\n",
    "plt.show()"
   ]
  },
  {
   "cell_type": "code",
   "execution_count": null,
   "id": "1ff2ba5a-71de-43d8-bcad-138273b93edc",
   "metadata": {},
   "outputs": [],
   "source": [
    "with open('beta_array.pickle', 'rb') as handle:\n",
    "    theta_i = pickle.load(handle)[:,:-1]\n",
    "\n",
    "all_agents[var_name] = theta_i\n",
    "all_agents['VOT'] = theta_i[:,0]/theta_i[:,6] # Value-of-time: theta_time/theta_cost|"
   ]
  },
  {
   "cell_type": "code",
   "execution_count": null,
   "id": "a0bfd783-d9ed-4530-9ceb-201b88f17985",
   "metadata": {},
   "outputs": [],
   "source": [
    "theta_result = pd.DataFrame(theta_i)\n",
    "theta_result['group_id'] = group_id\n",
    "NYC_county = ['36061','36047','36005','36081','36085']\n",
    "region_marker = theta_result['group_id'].map(lambda x: (x.split('_')[0][:5] in NYC_county) & (x.split('_')[1][:5] in NYC_county))"
   ]
  },
  {
   "cell_type": "code",
   "execution_count": null,
   "id": "ac2c2152-504b-48aa-bf28-e00666bc83c6",
   "metadata": {},
   "outputs": [],
   "source": [
    "scheme = mapclassify.NaturalBreaks(all_agents[region_marker]['VOT'], k=5)\n",
    "bins = list(scheme.bins)\n",
    "cmap = ['#470057','#385194','#129188','#54d058','#fff000']\n",
    "\n",
    "def VOT_plotter(all_agents,region_marker,column_name='VOT',segment='All',fixed_group=False):\n",
    "    if segment=='All':\n",
    "        data = all_agents[all_agents['VOT']<200]\n",
    "    else:\n",
    "        data = all_agents[pd.Series(group_id).map(lambda x:x.split('_')[-1])==segment]\n",
    "    data2 = data[region_marker]\n",
    "    data = data[data[column_name]<=data2[column_name].max()]\n",
    "    # define scheme\n",
    "    cmap = ['#470057','#385194','#129188','#54d058','#fff000']\n",
    "    if fixed_group:\n",
    "        bins = [10,25,50,75,data[column_name].max()]\n",
    "        bins2 = [10,25,50,75,data2[column_name].max()]\n",
    "    else:\n",
    "        scheme = mapclassify.NaturalBreaks(data[column_name], k=5)\n",
    "        bins = list(scheme.bins)\n",
    "        scheme2 = mapclassify.NaturalBreaks(data2[column_name], k=5)\n",
    "        bins2 = list(scheme2.bins)\n",
    "    #plot\n",
    "    fig,ax = plt.subplots(1,2,figsize=(15,8), gridspec_kw={'width_ratios': [1.27,1]})\n",
    "    data[(data[column_name]<bins[0])].plot(linewidth=0.5,ax=ax[0],color=cmap[0],label='%.2f-%.2f $/hour'%(data[column_name].min(),bins[0]))\n",
    "    for i in range(1,5):\n",
    "        data[(data[column_name]<bins[i])&(data[column_name]>=bins[i-1])].plot(linewidth=0.5,ax=ax[0],color=cmap[i],label='%.2f-%.2f $/hour'%(bins[i-1],bins[i]))\n",
    "    ax[0].set_title('Value of time (VOT) in New York State',fontsize=16)\n",
    "    ax[0].axis('off')\n",
    "    ax[0].legend(loc='lower left')\n",
    "    data2[(data2[column_name]<bins2[0])].plot(linewidth=0.5,ax=ax[1],color=cmap[0],label='%.2f-%.2f $/hour'%(data2[column_name].min(),bins2[0]))\n",
    "    for i in range(1,5):\n",
    "        data2[(data2[column_name]<bins2[i])&(data2[column_name]>=bins2[i-1])].plot(linewidth=0.5,ax=ax[1],color=cmap[i],label='%.2f-%.2f $/hour'%(bins2[i-1],bins2[i]))\n",
    "    ax[1].set_title('Value of time (VOT) in New York City',fontsize=16)\n",
    "    ax[1].axis('off')\n",
    "    ax[1].legend(loc='upper left')\n",
    "    plt.subplots_adjust(wspace=0.1, hspace=0.1)"
   ]
  },
  {
   "cell_type": "code",
   "execution_count": null,
   "id": "cb30326b-6bdb-4a16-8fb2-b0c460079a5d",
   "metadata": {},
   "outputs": [],
   "source": [
    "VOT_plotter(all_agents,region_marker,column_name='VOT',segment='All',fixed_group=True)"
   ]
  },
  {
   "cell_type": "code",
   "execution_count": null,
   "id": "20431a58-1b8b-41b4-8125-448b3960669b",
   "metadata": {},
   "outputs": [],
   "source": [
    "all_agents['VOT'].hist(bins=100,figsize=(6,4))\n",
    "plt.xlim([-20,200])"
   ]
  },
  {
   "cell_type": "code",
   "execution_count": null,
   "id": "a6bbf835-aabe-4342-bfa6-3393f74b6c67",
   "metadata": {},
   "outputs": [],
   "source": [
    "scheme = mapclassify.NaturalBreaks(all_agents[region_marker]['VOT'], k=5)\n",
    "bins = list(scheme.bins)\n",
    "cmap = ['#470057','#385194','#129188','#54d058','#fff000']\n",
    "\n",
    "def coeff_plotter(all_agents,region_marker,column_name='constant_driving',segment='All',fixed_group=False):\n",
    "    if segment=='All':\n",
    "        data = all_agents.copy()\n",
    "    else:\n",
    "        data = all_agents[pd.Series(group_id).map(lambda x:x.split('_')[-1])==segment]\n",
    "    data2 = data[region_marker]\n",
    "    data = data[data[column_name]<=data2[column_name].max()]\n",
    "    # define scheme\n",
    "    cmap = ['#470057','#40448d','#28798c','#22a887','#78d348','#fff000']\n",
    "    if fixed_group:\n",
    "        bins = [-2,-1,0,1,2,data[column_name].max()]\n",
    "        bins2 = [-2,-1,0,1,2,data[column_name].max()]\n",
    "    else:\n",
    "        scheme = mapclassify.Quantiles(data[column_name], k=6)\n",
    "        bins = list(scheme.bins)\n",
    "        scheme2 = mapclassify.Quantiles(data2[column_name], k=6)\n",
    "        bins2 = list(scheme2.bins)\n",
    "    #plot\n",
    "    fig,ax = plt.subplots(1,2,figsize=(15,8), gridspec_kw={'width_ratios': [1.27,1]})\n",
    "    data[(data[column_name]<bins[0])].plot(linewidth=0.5,ax=ax[0],color=cmap[0],label='%.2f-%.2f'%(data[column_name].min(),bins[0]))\n",
    "    for i in range(1,6):\n",
    "        data[(data[column_name]<bins[i])&(data[column_name]>=bins[i-1])].plot(linewidth=0.5,ax=ax[0],color=cmap[i],label='%.2f-%.2f'%(bins[i-1],bins[i]))\n",
    "    ax[0].set_title('%s in New York City'%(column_name.capitalize()),fontsize=16)\n",
    "    ax[0].axis('off')\n",
    "    ax[0].legend(loc='lower left')\n",
    "    data2[(data2[column_name]<bins2[0])].plot(linewidth=0.5,ax=ax[1],color=cmap[0],label='%.2f-%.2f'%(data2[column_name].min(),bins2[0]))\n",
    "    for i in range(1,6):\n",
    "        data2[(data2[column_name]<bins2[i])&(data2[column_name]>=bins2[i-1])].plot(linewidth=0.5,ax=ax[1],color=cmap[i],label='%.2f-%.2f'%(bins2[i-1],bins2[i]))\n",
    "    ax[1].set_title('%s in New York City'%(column_name.capitalize()),fontsize=16)\n",
    "    ax[1].axis('off')\n",
    "    ax[1].legend(loc='upper left')\n",
    "    plt.subplots_adjust(wspace=0.1, hspace=0.1)"
   ]
  },
  {
   "cell_type": "code",
   "execution_count": null,
   "id": "2fd23406-5b5b-46b1-8420-91e41ba108aa",
   "metadata": {},
   "outputs": [],
   "source": [
    "coeff_plotter(all_agents,region_marker,column_name='constant_transit',fixed_group=True)"
   ]
  },
  {
   "cell_type": "code",
   "execution_count": null,
   "id": "29e52379-8c50-4aa0-b066-09058cf3d849",
   "metadata": {},
   "outputs": [],
   "source": [
    "coeff_plotter(all_agents,region_marker,column_name='constant_walking',fixed_group=True)"
   ]
  },
  {
   "cell_type": "code",
   "execution_count": null,
   "id": "95a96dcf-4b6a-4825-8db9-99c59bc44541",
   "metadata": {},
   "outputs": [],
   "source": [
    "coeff_plotter(all_agents,region_marker,column_name='constant_biking',fixed_group=True)"
   ]
  },
  {
   "cell_type": "markdown",
   "id": "fa3d9076-be32-4a4c-90c7-d566f10f5300",
   "metadata": {},
   "source": [
    "### 5. How these can be integrated into an optimization model?"
   ]
  },
  {
   "cell_type": "markdown",
   "id": "bf90acd4-d9a1-483c-a06a-d2b73a8333a8",
   "metadata": {},
   "source": [
    "Ren, X., Chow, J. Y., & Guan, C. (2024). Mobility service design with equity-aware choice-based decision-support tool: New York case study. Transportation Research Part D: Transport and Environment, 132, 104255."
   ]
  },
  {
   "cell_type": "markdown",
   "id": "993b2910-bca8-4bf6-99a2-d1dcc788605f",
   "metadata": {},
   "source": [
    "#### Assuming there will be two new mobility services in New York State, namely, service A and service B. \n",
    "- Service A is a personalized ride-hailing service with shorter travel time and higher trip fare.\n",
    "- Service B is an on-demand microtransit service with longer travel time and lower trip fare.\n",
    "#### How to deploy these services throughout the New York State, given a budget and an objective?"
   ]
  },
  {
   "cell_type": "markdown",
   "id": "76dfd393-604b-4c84-91f4-fabf068f5a56",
   "metadata": {},
   "source": [
    "<img src=\"image/system_optimization.jpg\" style=\"width:70%\">"
   ]
  },
  {
   "cell_type": "code",
   "execution_count": null,
   "id": "0d30682e-5fd0-4a4c-8504-b090e976f53f",
   "metadata": {},
   "outputs": [],
   "source": [
    "file_path = pathlib.Path(\"html/multi_Objective1_20_5000.html\")   # relative path\n",
    "webbrowser.open(file_path.resolve().as_uri())"
   ]
  },
  {
   "cell_type": "code",
   "execution_count": null,
   "id": "9cd7abe5-5814-43a3-8d37-b1f01e58629a",
   "metadata": {},
   "outputs": [],
   "source": [
    "file_path = pathlib.Path(\"html/multi_Objective4_20_5000.html\")   # relative path\n",
    "webbrowser.open(file_path.resolve().as_uri())"
   ]
  }
 ],
 "metadata": {
  "kernelspec": {
   "display_name": "Python 3 (ipykernel)",
   "language": "python",
   "name": "python3"
  },
  "language_info": {
   "codemirror_mode": {
    "name": "ipython",
    "version": 3
   },
   "file_extension": ".py",
   "mimetype": "text/x-python",
   "name": "python",
   "nbconvert_exporter": "python",
   "pygments_lexer": "ipython3",
   "version": "3.11.11"
  }
 },
 "nbformat": 4,
 "nbformat_minor": 5
}
